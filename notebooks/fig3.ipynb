{
 "cells": [
  {
   "cell_type": "code",
   "execution_count": 1,
   "metadata": {},
   "outputs": [],
   "source": [
    "import os\n",
    "import pareto_interactions_py as P\n",
    "\n",
    "import pandas as pd\n",
    "import numpy as np\n",
    "import random\n",
    "import warnings\n",
    "warnings.filterwarnings('ignore')\n",
    "\n",
    "\n",
    "random.seed(0)\n",
    "\n",
    "save = False"
   ]
  },
  {
   "cell_type": "markdown",
   "metadata": {},
   "source": [
    "# Data"
   ]
  },
  {
   "cell_type": "code",
   "execution_count": 2,
   "metadata": {},
   "outputs": [],
   "source": [
    "dirname = '../datasets/'\n",
    "outdir = '../output/'\n",
    "\n",
    "datas_spatial_args = {\n",
    "    'colonFibP20': {'index_col':0},\n",
    "    'colonFibP23': {'index_col':0},\n",
    "    'enterocyte': {'header':None},\n",
    "    \n",
    "    '1D3TGlobal': {'header':None},\n",
    "    '1D3TInt6N': {'header':None},\n",
    "    '2D3TInt6N': {'header':None},\n",
    "    '2D3TGlobal': {'header':None},\n",
    "}"
   ]
  },
  {
   "cell_type": "code",
   "execution_count": 3,
   "metadata": {},
   "outputs": [
    {
     "name": "stdout",
     "output_type": "stream",
     "text": [
      "colonFibP20\n",
      "corr: -0.10\n",
      "pval: 1.00000\n"
     ]
    },
    {
     "data": {
      "text/html": [
       "\n",
       "<div id=\"altair-viz-bd1f9943272c469596daa901d489f61f\"></div>\n",
       "<script type=\"text/javascript\">\n",
       "  var VEGA_DEBUG = (typeof VEGA_DEBUG == \"undefined\") ? {} : VEGA_DEBUG;\n",
       "  (function(spec, embedOpt){\n",
       "    let outputDiv = document.currentScript.previousElementSibling;\n",
       "    if (outputDiv.id !== \"altair-viz-bd1f9943272c469596daa901d489f61f\") {\n",
       "      outputDiv = document.getElementById(\"altair-viz-bd1f9943272c469596daa901d489f61f\");\n",
       "    }\n",
       "    const paths = {\n",
       "      \"vega\": \"https://cdn.jsdelivr.net/npm//vega@5?noext\",\n",
       "      \"vega-lib\": \"https://cdn.jsdelivr.net/npm//vega-lib?noext\",\n",
       "      \"vega-lite\": \"https://cdn.jsdelivr.net/npm//vega-lite@4.17.0?noext\",\n",
       "      \"vega-embed\": \"https://cdn.jsdelivr.net/npm//vega-embed@6?noext\",\n",
       "    };\n",
       "\n",
       "    function maybeLoadScript(lib, version) {\n",
       "      var key = `${lib.replace(\"-\", \"\")}_version`;\n",
       "      return (VEGA_DEBUG[key] == version) ?\n",
       "        Promise.resolve(paths[lib]) :\n",
       "        new Promise(function(resolve, reject) {\n",
       "          var s = document.createElement('script');\n",
       "          document.getElementsByTagName(\"head\")[0].appendChild(s);\n",
       "          s.async = true;\n",
       "          s.onload = () => {\n",
       "            VEGA_DEBUG[key] = version;\n",
       "            return resolve(paths[lib]);\n",
       "          };\n",
       "          s.onerror = () => reject(`Error loading script: ${paths[lib]}`);\n",
       "          s.src = paths[lib];\n",
       "        });\n",
       "    }\n",
       "\n",
       "    function showError(err) {\n",
       "      outputDiv.innerHTML = `<div class=\"error\" style=\"color:red;\">${err}</div>`;\n",
       "      throw err;\n",
       "    }\n",
       "\n",
       "    function displayChart(vegaEmbed) {\n",
       "      vegaEmbed(outputDiv, spec, embedOpt)\n",
       "        .catch(err => showError(`Javascript Error: ${err.message}<br>This usually means there's a typo in your chart specification. See the javascript console for the full traceback.`));\n",
       "    }\n",
       "\n",
       "    if(typeof define === \"function\" && define.amd) {\n",
       "      requirejs.config({paths});\n",
       "      require([\"vega-embed\"], displayChart, err => showError(`Error loading script: ${err.message}`));\n",
       "    } else {\n",
       "      maybeLoadScript(\"vega\", \"5\")\n",
       "        .then(() => maybeLoadScript(\"vega-lite\", \"4.17.0\"))\n",
       "        .then(() => maybeLoadScript(\"vega-embed\", \"6\"))\n",
       "        .catch(showError)\n",
       "        .then(() => displayChart(vegaEmbed));\n",
       "    }\n",
       "  })({\"config\": {\"view\": {\"continuousWidth\": 400, \"continuousHeight\": 300, \"strokeOpacity\": 0}, \"axis\": {\"domainColor\": \"black\", \"domainWidth\": 2, \"labelFontSize\": 25, \"titleFontSize\": 30, \"titleFontWeight\": \"normal\"}, \"legend\": {\"labelFontSize\": 20, \"titleFontSize\": 20}, \"title\": {\"fontSize\": 20}}, \"data\": {\"name\": \"data-bc677921d20e94d51843ec10d077e52b\"}, \"mark\": {\"type\": \"circle\", \"aspect\": true}, \"encoding\": {\"color\": {\"value\": \"black\"}, \"opacity\": {\"value\": 1}, \"size\": {\"field\": \"pair fraction\", \"legend\": {\"tickCount\": 5}, \"scale\": {\"domain\": [0, 0.1], \"range\": [0, 1500]}, \"type\": \"quantitative\"}, \"x\": {\"axis\": {\"grid\": false, \"tickCount\": 1}, \"field\": \"phys dist bined\", \"title\": \"Physical distance\", \"type\": \"quantitative\"}, \"y\": {\"axis\": {\"grid\": false, \"tickCount\": 1}, \"field\": \"task dist bined\", \"title\": \"Task distance\", \"type\": \"quantitative\"}}, \"title\": \"\", \"$schema\": \"https://vega.github.io/schema/vega-lite/v4.17.0.json\", \"datasets\": {\"data-bc677921d20e94d51843ec10d077e52b\": [{\"phys dist bined\": 0.06, \"task dist bined\": 0.06, \"num pairs\": 131302, \"pair fraction\": 0.04011719051953262}, {\"phys dist bined\": 0.06, \"task dist bined\": 0.16, \"num pairs\": 119508, \"pair fraction\": 0.0365137256447602}, {\"phys dist bined\": 0.06, \"task dist bined\": 0.28, \"num pairs\": 70332, \"pair fraction\": 0.021488798674961295}, {\"phys dist bined\": 0.06, \"task dist bined\": 0.38, \"num pairs\": 40104, \"pair fraction\": 0.012253124922661774}, {\"phys dist bined\": 0.06, \"task dist bined\": 0.5, \"num pairs\": 26033, \"pair fraction\": 0.007953959732486882}, {\"phys dist bined\": 0.06, \"task dist bined\": 0.62, \"num pairs\": 14450, \"pair fraction\": 0.004414962475874293}, {\"phys dist bined\": 0.06, \"task dist bined\": 0.73, \"num pairs\": 10329, \"pair fraction\": 0.003155857952477894}, {\"phys dist bined\": 0.06, \"task dist bined\": 0.84, \"num pairs\": 6245, \"pair fraction\": 0.0019080581772896164}, {\"phys dist bined\": 0.06, \"task dist bined\": 0.94, \"num pairs\": 3384, \"pair fraction\": 0.001033926160440042}, {\"phys dist bined\": 0.16, \"task dist bined\": 0.06, \"num pairs\": 197432, \"pair fraction\": 0.06032213643853379}, {\"phys dist bined\": 0.16, \"task dist bined\": 0.16, \"num pairs\": 173980, \"pair fraction\": 0.05315675927699719}, {\"phys dist bined\": 0.16, \"task dist bined\": 0.28, \"num pairs\": 97496, \"pair fraction\": 0.029788317062134258}, {\"phys dist bined\": 0.16, \"task dist bined\": 0.38, \"num pairs\": 54650, \"pair fraction\": 0.016697418637130108}, {\"phys dist bined\": 0.16, \"task dist bined\": 0.5, \"num pairs\": 32845, \"pair fraction\": 0.01003525553772257}, {\"phys dist bined\": 0.16, \"task dist bined\": 0.62, \"num pairs\": 18752, \"pair fraction\": 0.005729368605369878}, {\"phys dist bined\": 0.16, \"task dist bined\": 0.73, \"num pairs\": 14325, \"pair fraction\": 0.004376770758954964}, {\"phys dist bined\": 0.16, \"task dist bined\": 0.84, \"num pairs\": 8052, \"pair fraction\": 0.002460157637075419}, {\"phys dist bined\": 0.16, \"task dist bined\": 0.94, \"num pairs\": 5123, \"pair fraction\": 0.00156524932622173}, {\"phys dist bined\": 0.28, \"task dist bined\": 0.06, \"num pairs\": 159864, \"pair fraction\": 0.048843845068731344}, {\"phys dist bined\": 0.28, \"task dist bined\": 0.16, \"num pairs\": 139169, \"pair fraction\": 0.04252082441556743}, {\"phys dist bined\": 0.28, \"task dist bined\": 0.28, \"num pairs\": 77629, \"pair fraction\": 0.023718278341843976}, {\"phys dist bined\": 0.28, \"task dist bined\": 0.38, \"num pairs\": 42331, \"pair fraction\": 0.012933548551296517}, {\"phys dist bined\": 0.28, \"task dist bined\": 0.5, \"num pairs\": 24370, \"pair fraction\": 0.007445857130592146}, {\"phys dist bined\": 0.28, \"task dist bined\": 0.62, \"num pairs\": 15062, \"pair fraction\": 0.0046019491219113215}, {\"phys dist bined\": 0.28, \"task dist bined\": 0.73, \"num pairs\": 10969, \"pair fraction\": 0.003351399543104852}, {\"phys dist bined\": 0.28, \"task dist bined\": 0.84, \"num pairs\": 6197, \"pair fraction\": 0.0018933925579925944}, {\"phys dist bined\": 0.28, \"task dist bined\": 0.94, \"num pairs\": 4108, \"pair fraction\": 0.0012551325848367885}, {\"phys dist bined\": 0.38, \"task dist bined\": 0.06, \"num pairs\": 141337, \"pair fraction\": 0.04318322155381625}, {\"phys dist bined\": 0.38, \"task dist bined\": 0.16, \"num pairs\": 117413, \"pair fraction\": 0.03587363246919227}, {\"phys dist bined\": 0.38, \"task dist bined\": 0.28, \"num pairs\": 64376, \"pair fraction\": 0.019669039747189167}, {\"phys dist bined\": 0.38, \"task dist bined\": 0.38, \"num pairs\": 33252, \"pair fraction\": 0.010159607768011902}, {\"phys dist bined\": 0.38, \"task dist bined\": 0.5, \"num pairs\": 19303, \"pair fraction\": 0.005897717693550275}, {\"phys dist bined\": 0.38, \"task dist bined\": 0.62, \"num pairs\": 12025, \"pair fraction\": 0.0036740431676393335}, {\"phys dist bined\": 0.38, \"task dist bined\": 0.73, \"num pairs\": 9019, \"pair fraction\": 0.0027556087591633386}, {\"phys dist bined\": 0.38, \"task dist bined\": 0.84, \"num pairs\": 4634, \"pair fraction\": 0.0014158433296333197}, {\"phys dist bined\": 0.38, \"task dist bined\": 0.94, \"num pairs\": 2899, \"pair fraction\": 0.0008857422987930501}, {\"phys dist bined\": 0.5, \"task dist bined\": 0.06, \"num pairs\": 151805, \"pair fraction\": 0.04638154869550844}, {\"phys dist bined\": 0.5, \"task dist bined\": 0.16, \"num pairs\": 123596, \"pair fraction\": 0.0377627475548899}, {\"phys dist bined\": 0.5, \"task dist bined\": 0.28, \"num pairs\": 65965, \"pair fraction\": 0.02015453285266766}, {\"phys dist bined\": 0.5, \"task dist bined\": 0.38, \"num pairs\": 32696, \"pair fraction\": 0.009989731011154732}, {\"phys dist bined\": 0.5, \"task dist bined\": 0.5, \"num pairs\": 19316, \"pair fraction\": 0.005901689632109884}, {\"phys dist bined\": 0.5, \"task dist bined\": 0.62, \"num pairs\": 10670, \"pair fraction\": 0.00326004495623382}, {\"phys dist bined\": 0.5, \"task dist bined\": 0.73, \"num pairs\": 8052, \"pair fraction\": 0.002460157637075419}, {\"phys dist bined\": 0.5, \"task dist bined\": 0.84, \"num pairs\": 3983, \"pair fraction\": 0.0012169408679174607}, {\"phys dist bined\": 0.5, \"task dist bined\": 0.94, \"num pairs\": 2340, \"pair fraction\": 0.0007149489407298162}, {\"phys dist bined\": 0.62, \"task dist bined\": 0.06, \"num pairs\": 134243, \"pair fraction\": 0.04101576523521056}, {\"phys dist bined\": 0.62, \"task dist bined\": 0.16, \"num pairs\": 104938, \"pair fraction\": 0.03206209912064335}, {\"phys dist bined\": 0.62, \"task dist bined\": 0.28, \"num pairs\": 53699, \"pair fraction\": 0.016406856054807864}, {\"phys dist bined\": 0.62, \"task dist bined\": 0.38, \"num pairs\": 24626, \"pair fraction\": 0.0075240737668429295}, {\"phys dist bined\": 0.62, \"task dist bined\": 0.5, \"num pairs\": 14721, \"pair fraction\": 0.004497762118155395}, {\"phys dist bined\": 0.62, \"task dist bined\": 0.62, \"num pairs\": 8164, \"pair fraction\": 0.0024943774154351367}, {\"phys dist bined\": 0.62, \"task dist bined\": 0.73, \"num pairs\": 6112, \"pair fraction\": 0.0018674221904874516}, {\"phys dist bined\": 0.62, \"task dist bined\": 0.84, \"num pairs\": 2930, \"pair fraction\": 0.0008952138445890434}, {\"phys dist bined\": 0.62, \"task dist bined\": 0.94, \"num pairs\": 1576, \"pair fraction\": 0.00048152116691888475}, {\"phys dist bined\": 0.73, \"task dist bined\": 0.06, \"num pairs\": 110538, \"pair fraction\": 0.03377308803862924}, {\"phys dist bined\": 0.73, \"task dist bined\": 0.16, \"num pairs\": 79875, \"pair fraction\": 0.02440450711145046}, {\"phys dist bined\": 0.73, \"task dist bined\": 0.28, \"num pairs\": 37228, \"pair fraction\": 0.01137440989978188}, {\"phys dist bined\": 0.73, \"task dist bined\": 0.38, \"num pairs\": 16975, \"pair fraction\": 0.005186435157644714}, {\"phys dist bined\": 0.73, \"task dist bined\": 0.5, \"num pairs\": 9854, \"pair fraction\": 0.003010729428184448}, {\"phys dist bined\": 0.73, \"task dist bined\": 0.62, \"num pairs\": 5592, \"pair fraction\": 0.001708544648103048}, {\"phys dist bined\": 0.73, \"task dist bined\": 0.73, \"num pairs\": 4618, \"pair fraction\": 0.0014109547898676458}, {\"phys dist bined\": 0.73, \"task dist bined\": 0.84, \"num pairs\": 1934, \"pair fraction\": 0.0005909022441758395}, {\"phys dist bined\": 0.73, \"task dist bined\": 0.94, \"num pairs\": 1005, \"pair fraction\": 0.00030706140403139544}, {\"phys dist bined\": 0.84, \"task dist bined\": 0.06, \"num pairs\": 73740, \"pair fraction\": 0.02253005764504985}, {\"phys dist bined\": 0.84, \"task dist bined\": 0.16, \"num pairs\": 55178, \"pair fraction\": 0.01685874044939735}, {\"phys dist bined\": 0.84, \"task dist bined\": 0.28, \"num pairs\": 24565, \"pair fraction\": 0.007505436208986297}, {\"phys dist bined\": 0.84, \"task dist bined\": 0.38, \"num pairs\": 11554, \"pair fraction\": 0.0035301367782873063}, {\"phys dist bined\": 0.84, \"task dist bined\": 0.5, \"num pairs\": 6423, \"pair fraction\": 0.0019624431821827393}, {\"phys dist bined\": 0.84, \"task dist bined\": 0.62, \"num pairs\": 3409, \"pair fraction\": 0.0010415645038239075}, {\"phys dist bined\": 0.84, \"task dist bined\": 0.73, \"num pairs\": 2996, \"pair fraction\": 0.0009153790711224484}, {\"phys dist bined\": 0.84, \"task dist bined\": 0.84, \"num pairs\": 1031, \"pair fraction\": 0.00031500528115061563}, {\"phys dist bined\": 0.84, \"task dist bined\": 0.94, \"num pairs\": 489, \"pair fraction\": 0.00014940599658841032}, {\"phys dist bined\": 0.94, \"task dist bined\": 0.06, \"num pairs\": 38736, \"pair fraction\": 0.01183515477269665}, {\"phys dist bined\": 0.94, \"task dist bined\": 0.16, \"num pairs\": 25236, \"pair fraction\": 0.007710449345409248}, {\"phys dist bined\": 0.94, \"task dist bined\": 0.28, \"num pairs\": 9309, \"pair fraction\": 0.002844213542416179}, {\"phys dist bined\": 0.94, \"task dist bined\": 0.38, \"num pairs\": 4338, \"pair fraction\": 0.0013254053439683516}, {\"phys dist bined\": 0.94, \"task dist bined\": 0.5, \"num pairs\": 2431, \"pair fraction\": 0.0007427525106470869}, {\"phys dist bined\": 0.94, \"task dist bined\": 0.62, \"num pairs\": 1318, \"pair fraction\": 0.0004026934631973922}, {\"phys dist bined\": 0.94, \"task dist bined\": 0.73, \"num pairs\": 1021, \"pair fraction\": 0.00031194994379706936}, {\"phys dist bined\": 0.94, \"task dist bined\": 0.84, \"num pairs\": 325, \"pair fraction\": 9.929846399025225e-05}, {\"phys dist bined\": 0.94, \"task dist bined\": 0.94, \"num pairs\": 96, \"pair fraction\": 2.933123859404374e-05}]}}, {\"mode\": \"vega-lite\"});\n",
       "</script>"
      ],
      "text/plain": [
       "alt.Chart(...)"
      ]
     },
     "metadata": {},
     "output_type": "display_data"
    },
    {
     "name": "stdout",
     "output_type": "stream",
     "text": [
      "colonFibP23\n",
      "corr: 0.00\n"
     ]
    }
   ],
   "source": [
    "comp_null = True\n",
    "n_shuff = 1000\n",
    "tit = ''\n",
    "for data, sargs in datas_spatial_args.items():\n",
    "    print(data)\n",
    "    \n",
    "    # read data\n",
    "    df_task = pd.read_csv(os.path.join(dirname, data + 'TaskPos.csv'), header=None)\n",
    "    df_spatial = pd.read_csv(os.path.join(dirname, data + 'SpatialPos.csv'), **sargs)\n",
    "    \n",
    "    if type(df_spatial.iloc[0].values[0]) == str:\n",
    "        for c in df_spatial.columns:\n",
    "            df_spatial[c] = pd.eval(df_spatial[c])\n",
    "    \n",
    "    df_spatial = df_spatial.astype(float)\n",
    "    \n",
    "    G = df_task.values\n",
    "    T = np.eye(G.shape[1])\n",
    "    L = df_spatial.values.reshape((df_spatial.shape[0], -1))\n",
    "    \n",
    "    # plot solution\n",
    "    P.pl.plot_sol(G,T,L)\n",
    "    \n",
    "    # compute dists\n",
    "    p = P.pl.plot_task_phys(G, L, comp_null=comp_null, n_shuff=n_shuff, tit=tit)\n",
    "    \n",
    "    p.display()\n",
    "    if save:\n",
    "        p.save(os.path.join(outdir, f'pairs_dist_{data}.png'), scale_factor=5)"
   ]
  }
 ],
 "metadata": {
  "hide_input": false,
  "kernelspec": {
   "display_name": "pareto_env",
   "language": "python",
   "name": "python3"
  },
  "language_info": {
   "codemirror_mode": {
    "name": "ipython",
    "version": 3
   },
   "file_extension": ".py",
   "mimetype": "text/x-python",
   "name": "python",
   "nbconvert_exporter": "python",
   "pygments_lexer": "ipython3",
   "version": "3.10.8"
  },
  "toc": {
   "base_numbering": 1,
   "nav_menu": {},
   "number_sections": true,
   "sideBar": true,
   "skip_h1_title": false,
   "title_cell": "Table of Contents",
   "title_sidebar": "Contents",
   "toc_cell": false,
   "toc_position": {},
   "toc_section_display": true,
   "toc_window_display": false
  },
  "vscode": {
   "interpreter": {
    "hash": "b8878b8238eadbfb80b47b5566946df07175128539e71fdc0103f84432562c70"
   }
  }
 },
 "nbformat": 4,
 "nbformat_minor": 4
}
