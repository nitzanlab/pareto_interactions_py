{
 "cells": [
  {
   "cell_type": "code",
   "execution_count": 1,
   "id": "d3bc7efa",
   "metadata": {},
   "outputs": [],
   "source": [
    "import os\n",
    "import pandas as pd\n",
    "import numpy as np\n",
    "import seaborn as sns\n",
    "import matplotlib.pyplot as plt\n",
    "import scipy.io\n",
    "import scanpy as sc\n",
    "import tacco as tc"
   ]
  },
  {
   "cell_type": "code",
   "execution_count": 2,
   "id": "ddcff0ec",
   "metadata": {},
   "outputs": [],
   "source": [
    "save = False\n",
    "dirname = '../datasets/'\n",
    "outdir = '../output/'"
   ]
  },
  {
   "attachments": {},
   "cell_type": "markdown",
   "id": "df0613fb",
   "metadata": {},
   "source": [
    "# Fig4 - mapping scRNA-seq onto Slide-seq\n",
    "\n",
    "Projecting high-quality fibroblasts expression data from Muhl et al. onto spatially-informed Slide-seq data (Avraham-Davidi et al.). \n"
   ]
  },
  {
   "cell_type": "markdown",
   "id": "33945ea1",
   "metadata": {},
   "source": [
    "## Standardize the datasets"
   ]
  },
  {
   "attachments": {},
   "cell_type": "markdown",
   "id": "c279e795",
   "metadata": {},
   "source": [
    "### Construct \"scdata\" for Muhl single-cell data"
   ]
  },
  {
   "cell_type": "code",
   "execution_count": 3,
   "id": "24d4c6dc",
   "metadata": {},
   "outputs": [
    {
     "name": "stdout",
     "output_type": "stream",
     "text": [
      "Muhl single-cell data, ngenes: 46609, ncells: 1646\n"
     ]
    }
   ],
   "source": [
    "# read expression and tasks (from Miri)\n",
    "\n",
    "dirname = '../datasets/'\n",
    "\n",
    "# read genenames\n",
    "scgenenames = pd.read_csv(os.path.join(dirname, 'colonSCGeneNames.txt'), header=None, index_col=0).index\n",
    "\n",
    "# read computed task allocations\n",
    "sctasks = pd.read_csv(os.path.join(dirname, 'colonSCFibsArcsCoef.csv'), header=None)\n",
    "\n",
    "# read expression\n",
    "scdata_org = pd.read_csv(os.path.join(dirname, 'GSE149859_colon_processed_counts.txt.gz'), sep='\\t')\n",
    "\n",
    "print(f\"Muhl single-cell data, ngenes: {scdata_org.shape[0]}, ncells: {scdata_org.shape[1]}\")\n",
    "                         "
   ]
  },
  {
   "cell_type": "code",
   "execution_count": 4,
   "id": "6ef49066",
   "metadata": {},
   "outputs": [],
   "source": [
    "# convert gene id to gene names\n",
    "\n",
    "# read id-name table\n",
    "genenames_df = pd.read_csv(os.path.join(dirname, 'colonSCGenesConvert.txt'), sep='\\t')\n",
    "genenames_df['Name'] = genenames_df['Description'].apply(lambda s: s.split('(')[-1].split(')')[0])\n",
    "\n",
    "gene_id_to_name = genenames_df[['Name']]\n",
    "gene_id_to_name.index = genenames_df['ENSEMBL_GENE_ID']\n",
    "\n",
    "genes_with_names = list(set(scdata_org.index).intersection(gene_id_to_name.index))"
   ]
  },
  {
   "cell_type": "code",
   "execution_count": 5,
   "id": "50f057d0",
   "metadata": {},
   "outputs": [],
   "source": [
    "# subset to genes with names and replace id with name\n",
    "scdata_ns = scdata_org.loc[genes_with_names].copy()\n",
    "ids = gene_id_to_name.loc[genes_with_names].index\n",
    "scdata_ns.index = gene_id_to_name.loc[ids]['Name'].values\n",
    "# scdata_ns.index = gene_id_to_name.loc[genes_with_names].loc[~ids.duplicated(keep='first')]['Name'].values\n",
    "scdata_ns = scdata_ns.T\n"
   ]
  },
  {
   "cell_type": "code",
   "execution_count": 6,
   "id": "91e550d0",
   "metadata": {},
   "outputs": [],
   "source": [
    "# some gene names have multiple ids, dropping these because can't resolve in ss data\n",
    "genenames_df.index = genenames_df['Name']\n",
    "genenames_uniq = genenames_df['Name'].drop_duplicates(keep=False).index\n",
    "genenames_df = genenames_df.loc[genenames_uniq]\n",
    "genenames_mapped = list(set(scgenenames.values).intersection(set(genenames_df.index.values)))\n",
    "geneids_mapped = genenames_df.loc[genenames_mapped]['ENSEMBL_GENE_ID'] "
   ]
  },
  {
   "cell_type": "code",
   "execution_count": 8,
   "id": "d6436556",
   "metadata": {},
   "outputs": [
    {
     "name": "stdout",
     "output_type": "stream",
     "text": [
      "Muhl single-cell data subset to genes with names, ngenes: 8425, ncells: 1646\n"
     ]
    },
    {
     "name": "stderr",
     "output_type": "stream",
     "text": [
      "/var/folders/8y/cpqrd46n7ml80f139vjz9l240000gn/T/ipykernel_45670/3592150699.py:4: FutureWarning: X.dtype being converted to np.float32 from int64. In the next version of anndata (0.9) conversion will not be automatic. Pass dtype explicitly to avoid this warning. Pass `AnnData(X, dtype=X.dtype, ...)` to get the future behavour.\n",
      "  scdata = sc.AnnData(df.T)\n",
      "/var/folders/8y/cpqrd46n7ml80f139vjz9l240000gn/T/ipykernel_45670/3592150699.py:9: FutureWarning: In a future version of pandas all arguments of concat except for the argument 'objs' will be keyword-only.\n",
      "  scdata.obs = pd.concat((scdata.obs, sctasks), 1)\n"
     ]
    }
   ],
   "source": [
    "# construct single cell data AnnData object -- scdata\n",
    "df = scdata_org.loc[geneids_mapped]                              \n",
    "df.index = genenames_mapped\n",
    "scdata = sc.AnnData(df.T)\n",
    "\n",
    "# add tasks\n",
    "sctasks.index = df.columns \n",
    "sctasks.columns = ['task %d' % (c + 1) for c in sctasks.columns]\n",
    "scdata.obs = pd.concat((scdata.obs, sctasks), 1)\n",
    "scdata.obsm['tasks'] = sctasks\n",
    "\n",
    "print(f\"Muhl single-cell data subset to genes with names, ngenes: {scdata.shape[1]}, ncells: {scdata.shape[0]}\")"
   ]
  },
  {
   "attachments": {},
   "cell_type": "markdown",
   "id": "7f951b6f",
   "metadata": {},
   "source": [
    "### Construct \"ssdata\" for Slide-seq data"
   ]
  },
  {
   "cell_type": "code",
   "execution_count": 9,
   "id": "15fe701b",
   "metadata": {},
   "outputs": [
    {
     "name": "stdout",
     "output_type": "stream",
     "text": [
      "Slide-seq data, ngenes: 19626, nbeads: 2559\n"
     ]
    }
   ],
   "source": [
    "# read slideseq\n",
    "puck = '20'\n",
    "\n",
    "ssdata_loc = pd.read_csv(os.path.join(dirname, f'2020-09-14_Puck_200701_{puck}_fibro_thr0.5_loc.csv'), index_col=0)\n",
    "ssdata_ct = pd.read_csv(os.path.join(dirname, f'2020-09-14_Puck_200701_{puck}_fibro_thr0.5_ct.csv'), index_col=0)\n",
    "ssdata_exp = pd.read_csv(os.path.join(dirname, f'2020-09-14_Puck_200701_{puck}_fibro_thr0.5_exp.csv'), index_col=0)\n",
    "\n",
    "print(f\"Slide-seq data, ngenes: {ssdata_exp.shape[1]}, nbeads: {ssdata_exp.shape[0]}\")"
   ]
  },
  {
   "cell_type": "code",
   "execution_count": 10,
   "id": "2ed41e93",
   "metadata": {},
   "outputs": [],
   "source": [
    "# read sc tasks\n",
    "ssdata_task = pd.read_csv(os.path.join(dirname, f'colonFibP{puck}TaskPos.csv'), header=None)\n",
    "ssdata_task.index = ssdata_exp.index\n",
    "ssdata_task.columns = ['task %d' % (c + 1) for c in ssdata_task.columns]"
   ]
  },
  {
   "attachments": {},
   "cell_type": "markdown",
   "id": "18292a1a",
   "metadata": {},
   "source": [
    "### Subset to scdata and ssdata shared genes"
   ]
  },
  {
   "cell_type": "code",
   "execution_count": 11,
   "id": "c7e2d55c",
   "metadata": {},
   "outputs": [
    {
     "name": "stdout",
     "output_type": "stream",
     "text": [
      "Single-cell data subset to shared genes, ngenes: 8190, ncells: 1646\n",
      "Slide-seq data subset to shared genes, ngenes: 8190, nbeads: 2559\n"
     ]
    },
    {
     "name": "stderr",
     "output_type": "stream",
     "text": [
      "/var/folders/8y/cpqrd46n7ml80f139vjz9l240000gn/T/ipykernel_45670/3786744548.py:3: FutureWarning: X.dtype being converted to np.float32 from float64. In the next version of anndata (0.9) conversion will not be automatic. Pass dtype explicitly to avoid this warning. Pass `AnnData(X, dtype=X.dtype, ...)` to get the future behavour.\n",
      "  ssdata = sc.AnnData(ssdata_exp[genenames], obs=ssdata_loc)\n"
     ]
    }
   ],
   "source": [
    "# subseting for genenames to match\n",
    "genenames = list(set(ssdata_exp.columns).intersection(genenames_mapped))\n",
    "ssdata = sc.AnnData(ssdata_exp[genenames], obs=ssdata_loc)\n",
    "scdata = scdata[:, genenames]\n",
    "ssdata.obsm['tasks'] = ssdata_task\n",
    "\n",
    "print(f\"Single-cell data subset to shared genes, ngenes: {scdata.shape[1]}, ncells: {scdata.shape[0]}\")\n",
    "print(f\"Slide-seq data subset to shared genes, ngenes: {ssdata.shape[1]}, nbeads: {ssdata.shape[0]}\")\n"
   ]
  },
  {
   "attachments": {},
   "cell_type": "markdown",
   "id": "9bf8650f",
   "metadata": {},
   "source": [
    "## Map ssdata using scdata as reference"
   ]
  },
  {
   "cell_type": "code",
   "execution_count": 13,
   "id": "316263be",
   "metadata": {},
   "outputs": [
    {
     "name": "stdout",
     "output_type": "stream",
     "text": [
      "Starting preprocessing\n",
      "Finished preprocessing in 0.93 seconds.\n",
      "Starting annotation of data with shape (2559, 7885) and a reference of shape (1646, 7885) using the following wrapped method:\n",
      "+- platform normalization: platform_iterations=1, gene_keys=cell_id, normalize_to=adata\n",
      "   +- multi center: multi_center=None multi_center_amplitudes=True\n",
      "      +- core: method=OT annotation_prior=None\n",
      "mean,std( rescaling(gene) )  0.0005081116214323467 0.0017364441299349783\n",
      "scale.....time 156.71984720230103\n",
      "mean,std( rescaling(gene) )  0.9700986626537735 0.15339693069007093\n",
      "Finished annotation in 176.1 seconds.\n"
     ]
    },
    {
     "data": {
      "text/plain": [
       "AnnData object with n_obs × n_vars = 2559 × 8190\n",
       "    obs: 'x', 'y'\n",
       "    obsm: 'tasks', 'cell_id_mapping'\n",
       "    varm: 'cell_id_mapping'"
      ]
     },
     "execution_count": 13,
     "metadata": {},
     "output_type": "execute_result"
    }
   ],
   "source": [
    "annotation_key = 'cell_id' # this holds the \"labels\" of the reference data, can be cell types, states, here, it is the cells' ids\n",
    "result_key = 'cell_id_mapping' # will hold the resulting mapping in the adata object\n",
    "\n",
    "scdata.obs[annotation_key] = scdata.obs_names\n",
    "# tc.tl.annotate(ssdata, scdata, annotation_key=annotation_key, result_key=result_key)\n",
    "tc.tl.annotate(ssdata, scdata, annotation_key=annotation_key, result_key=result_key, platform_iterations=1, bisections=0, bisection_divisor=1)\n"
   ]
  },
  {
   "attachments": {},
   "cell_type": "markdown",
   "id": "a435b356",
   "metadata": {},
   "source": [
    "## Predict tasks and expression based on mapping"
   ]
  },
  {
   "cell_type": "code",
   "execution_count": 18,
   "id": "c790ce67",
   "metadata": {},
   "outputs": [
    {
     "name": "stderr",
     "output_type": "stream",
     "text": [
      "/var/folders/8y/cpqrd46n7ml80f139vjz9l240000gn/T/ipykernel_45670/827273562.py:17: FutureWarning: X.dtype being converted to np.float32 from float64. In the next version of anndata (0.9) conversion will not be automatic. Pass dtype explicitly to avoid this warning. Pass `AnnData(X, dtype=X.dtype, ...)` to get the future behavour.\n",
      "  sspred_adata = sc.AnnData(pred_exp_all, obs=ssdata_loc)\n",
      "/Users/nomo/opt/miniconda3/envs/pareto_env/lib/python3.10/site-packages/anndata/_core/anndata.py:1830: UserWarning: Variable names are not unique. To make them unique, call `.var_names_make_unique`.\n",
      "  utils.warn_names_duplicates(\"var\")\n"
     ]
    }
   ],
   "source": [
    "# predicted tasks\n",
    "mapping = ssdata.obsm[result_key].T # sums to 1 per bead\n",
    "pred_tasks = (scdata.obsm['tasks'].T @ mapping).T\n",
    "pred_tasks.index = ssdata.obs_names\n",
    "ssdata.obsm['pred tasks'] = pred_tasks\n",
    "\n",
    "pt_col = 'pred tasks'\n",
    "# save just tasks\n",
    "if save:\n",
    "    ssdata.obsm['pred tasks'].to_csv(os.path.join(outdir, f'sc_on_ss_pred_tasks.csv'))\n",
    "    ssdata.obs[['x', 'y']].to_csv(os.path.join(outdir, f'sc_on_ss_pred_loc.csv'))\n",
    "\n",
    "\n",
    "# predicted expression\n",
    "pred_exp_all = (scdata_ns.T @ mapping).T\n",
    "pred_exp_all.index = ssdata.obs_names\n",
    "\n",
    "# save all\n",
    "sspred_adata = sc.AnnData(pred_exp_all, obs=ssdata_loc)\n",
    "sspred_adata.obsm['tasks'] = ssdata.obsm['pred tasks']\n",
    "\n",
    "if save:\n",
    "    sc.write(os.path.join(outdir, f'sc_on_ss_pred_adata_{puck}.h5'), sspred_adata)"
   ]
  }
 ],
 "metadata": {
  "kernelspec": {
   "display_name": "pareto_env",
   "language": "python",
   "name": "python3"
  },
  "language_info": {
   "codemirror_mode": {
    "name": "ipython",
    "version": 3
   },
   "file_extension": ".py",
   "mimetype": "text/x-python",
   "name": "python",
   "nbconvert_exporter": "python",
   "pygments_lexer": "ipython3",
   "version": "3.10.8"
  },
  "vscode": {
   "interpreter": {
    "hash": "b8878b8238eadbfb80b47b5566946df07175128539e71fdc0103f84432562c70"
   }
  }
 },
 "nbformat": 4,
 "nbformat_minor": 5
}
